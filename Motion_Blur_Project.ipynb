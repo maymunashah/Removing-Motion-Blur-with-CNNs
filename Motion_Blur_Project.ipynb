{
  "nbformat": 4,
  "nbformat_minor": 0,
  "metadata": {
    "colab": {
      "provenance": [],
      "gpuType": "T4",
      "collapsed_sections": [
        "bacEDFoO3XOz",
        "NPR8k6Euzy_5",
        "16gUFNP2eEQm",
        "QaPbeANmFwdF"
      ]
    },
    "kernelspec": {
      "name": "python3",
      "display_name": "Python 3"
    },
    "language_info": {
      "name": "python"
    },
    "accelerator": "GPU"
  },
  "cells": [
    {
      "cell_type": "markdown",
      "source": [
        "# Kirti Rajesh Chaurasia - 0001046551"
      ],
      "metadata": {
        "id": "AgLHD464yUDm"
      }
    },
    {
      "cell_type": "markdown",
      "source": [
        "# Motion Deblurring\n",
        "\n",
        "The project involves deblurring images. The blurred version is obtained through a superposition of slightly translated versions of the same image, following a random trajectory."
      ],
      "metadata": {
        "id": "bacEDFoO3XOz"
      }
    },
    {
      "cell_type": "markdown",
      "source": [
        "A convolutional neural network, ever since its conception, has almost exclusively been associated with computer vision applications. That’s because their architecture is specifically suited for performing complex visual analyses. Hence, I tried to create a CNN that can reconstruct a blurred image from the blurred image. The idea is to make it as simple as possible while also providing acceptable visual results."
      ],
      "metadata": {
        "id": "1EVXEp5uyd84"
      }
    },
    {
      "cell_type": "markdown",
      "source": [
        "## Dataset creation"
      ],
      "metadata": {
        "id": "lzQvH8YFoMX5"
      }
    },
    {
      "cell_type": "code",
      "source": [
        "!sudo pip3 install keras"
      ],
      "metadata": {
        "colab": {
          "base_uri": "https://localhost:8080/"
        },
        "id": "2JSa9ByPyJiR",
        "outputId": "3ae41792-16a3-4793-ab5d-9882a0d40aad"
      },
      "execution_count": 29,
      "outputs": [
        {
          "output_type": "stream",
          "name": "stdout",
          "text": [
            "Requirement already satisfied: keras in /usr/local/lib/python3.10/dist-packages (2.15.0)\n"
          ]
        }
      ]
    },
    {
      "cell_type": "code",
      "execution_count": 47,
      "metadata": {
        "id": "tXq5YKgoyJdX"
      },
      "outputs": [],
      "source": [
        "from tensorflow.keras import layers\n",
        "from tensorflow.keras.datasets import mnist\n",
        "import tensorflow as tf\n",
        "import random\n",
        "import numpy as np\n",
        "import matplotlib.pyplot as plt\n",
        "from tensorflow.keras.layers import Input, Conv2D, MaxPooling2D, ZeroPadding2D, Dense, Flatten, Layer, ReLU\n",
        "from keras.layers import Dropout\n",
        "from tensorflow.keras.models import Model\n",
        "from tensorflow.keras import metrics\n",
        "from sklearn.metrics import mean_squared_error\n",
        "from tensorflow.keras.callbacks import EarlyStopping\n",
        "from tensorflow.keras.regularizers import l2\n",
        "from keras.callbacks import ModelCheckpoint\n"
      ]
    },
    {
      "cell_type": "markdown",
      "source": [
        "We work with images obtained from MNIST."
      ],
      "metadata": {
        "id": "VMXlh4Cz4_Vk"
      }
    },
    {
      "cell_type": "code",
      "source": [
        "(x_train, y_train), (x_test, y_test) = mnist.load_data()\n",
        "x_train = (x_train/255.).astype(np.float32)\n",
        "x_test = (x_test/255.).astype(np.float32)"
      ],
      "metadata": {
        "id": "Sb-6a1ZsyuC5"
      },
      "execution_count": 31,
      "outputs": []
    },
    {
      "cell_type": "code",
      "source": [
        "x_train.shape"
      ],
      "metadata": {
        "colab": {
          "base_uri": "https://localhost:8080/"
        },
        "id": "O4MJmxJv20w5",
        "outputId": "159441cc-fceb-4110-f2e7-d5da4ed9b8a9"
      },
      "execution_count": 32,
      "outputs": [
        {
          "output_type": "execute_result",
          "data": {
            "text/plain": [
              "(60000, 28, 28)"
            ]
          },
          "metadata": {},
          "execution_count": 32
        }
      ]
    },
    {
      "cell_type": "code",
      "source": [
        "x_test.shape"
      ],
      "metadata": {
        "colab": {
          "base_uri": "https://localhost:8080/"
        },
        "id": "x5g0__47245q",
        "outputId": "3f959fa5-b39d-4d07-9b29-d06a0ddd6d10"
      },
      "execution_count": 33,
      "outputs": [
        {
          "output_type": "execute_result",
          "data": {
            "text/plain": [
              "(10000, 28, 28)"
            ]
          },
          "metadata": {},
          "execution_count": 33
        }
      ]
    },
    {
      "cell_type": "markdown",
      "source": [
        "Below we have the generator needed for the project. (Do not modify the number of moves, the range of translations. You are free to change the batchsize.)"
      ],
      "metadata": {
        "id": "z6c89m6z5J7N"
      }
    },
    {
      "cell_type": "code",
      "source": [
        "def generator(dataset,batchsize,moves=10):\n",
        "  while True:\n",
        "    rand = np.random.randint(dataset.shape[0],size=batchsize)\n",
        "    y_truth = dataset[rand]\n",
        "    blurred = np.copy(y_truth)\n",
        "    moving = tf.expand_dims(y_truth,axis=-1)\n",
        "\n",
        "    for i in range(moves):\n",
        "      #RandomTranslation requires a channel axis\n",
        "      moving = layers.RandomTranslation(0.07,0.07,fill_mode='constant',interpolation='bilinear')(moving)\n",
        "      blurred = blurred + tf.squeeze(moving)\n",
        "    blurred = blurred/(moves+1)\n",
        "    yield(blurred,y_truth)\n"
      ],
      "metadata": {
        "id": "eMU4M2_Ty18E"
      },
      "execution_count": 34,
      "outputs": []
    },
    {
      "cell_type": "markdown",
      "source": [
        "We are creating a functino to create the blurred images of entire data including test and train sets."
      ],
      "metadata": {
        "id": "aNIgVxJmnEj8"
      }
    },
    {
      "cell_type": "code",
      "source": [
        "# Function to process the entire dataset\n",
        "def get_dataset(x_train, batch_size):\n",
        "    gen = generator(x_train, batch_size)\n",
        "    num_batches = len(x_train) // batch_size\n",
        "\n",
        "    # Collecting processed batches\n",
        "    all_blurred, all_truth = [], []\n",
        "    for _ in range(num_batches):\n",
        "        blurred, y_truth = next(gen)\n",
        "        all_blurred.append(blurred)\n",
        "        all_truth.append(y_truth)\n",
        "\n",
        "    # Convert lists to numpy arrays\n",
        "    all_blurred = np.concatenate(all_blurred, axis=0)\n",
        "    all_truth = np.concatenate(all_truth, axis=0)\n",
        "\n",
        "    return all_blurred, all_truth"
      ],
      "metadata": {
        "id": "cuv-5W-k5mwz"
      },
      "execution_count": 35,
      "outputs": []
    },
    {
      "cell_type": "code",
      "source": [
        "def plot(x,y):\n",
        "  no = x.shape[0]\n",
        "  print(no)\n",
        "  plt.figure(figsize=(2*no, 4))\n",
        "  for i in range(no):\n",
        "    # display original\n",
        "    ax = plt.subplot(2, no, i + 1)\n",
        "    plt.imshow(x[i])\n",
        "    plt.gray()\n",
        "    ax.get_xaxis().set_visible(False)\n",
        "    ax.get_yaxis().set_visible(False)\n",
        "\n",
        "    # display reconstruction\n",
        "    ax = plt.subplot(2, no, i + 1 + no)\n",
        "    plt.imshow(y[i])\n",
        "    plt.gray()\n",
        "    ax.get_xaxis().set_visible(False)\n",
        "    ax.get_yaxis().set_visible(False)\n",
        "  plt.show()"
      ],
      "metadata": {
        "id": "2cg2crUI2a0W"
      },
      "execution_count": 36,
      "outputs": []
    },
    {
      "cell_type": "code",
      "source": [
        "def show(x, y, z):\n",
        "    title=['Original', 'Blurred', 'predicted']\n",
        "    plt.figure(figsize=(15, 8))\n",
        "    plt.subplot(1, 3, 1)\n",
        "    plt.imshow(x)\n",
        "    plt.title(title[0])\n",
        "    plt.subplot(1, 3, 2)\n",
        "    plt.imshow(y)\n",
        "    plt.title(title[1])\n",
        "    plt.subplot(1, 3, 3)\n",
        "    plt.imshow(z)\n",
        "    plt.title(title[2])\n",
        "    plt.show()\n"
      ],
      "metadata": {
        "id": "ijYvV7NtNBHl"
      },
      "execution_count": 37,
      "outputs": []
    },
    {
      "cell_type": "markdown",
      "source": [
        "Creating blurred data set - x_train_b is the blurred data and x_train_o is the original unblurred images, and same for the test sets."
      ],
      "metadata": {
        "id": "YNew_jWg3rMI"
      }
    },
    {
      "cell_type": "code",
      "source": [
        "batch_size = 100\n",
        "\n",
        "x_train_b, x_train_o = get_dataset(x_train, batch_size=batch_size)"
      ],
      "metadata": {
        "id": "lcejg3VP3q1M"
      },
      "execution_count": 38,
      "outputs": []
    },
    {
      "cell_type": "code",
      "source": [
        "x_test_b, x_test_o = get_dataset(x_test, batch_size=batch_size)"
      ],
      "metadata": {
        "id": "ytY6rDeh7oLz"
      },
      "execution_count": 39,
      "outputs": []
    },
    {
      "cell_type": "markdown",
      "source": [
        "Checking the size/dimension of our train and test sets so we can create our input and output layer accordingly."
      ],
      "metadata": {
        "id": "I-9xHhG_qYcS"
      }
    },
    {
      "cell_type": "code",
      "source": [
        "print(x_train_b.shape)\n",
        "print(x_train_o.shape)\n",
        "print(x_test_b.shape)\n",
        "print(x_test_o.shape)"
      ],
      "metadata": {
        "colab": {
          "base_uri": "https://localhost:8080/"
        },
        "id": "KkredyGM5TsG",
        "outputId": "88cdb837-0a70-4bb6-f8f1-07aaa05729ec"
      },
      "execution_count": 40,
      "outputs": [
        {
          "output_type": "stream",
          "name": "stdout",
          "text": [
            "(60000, 28, 28)\n",
            "(60000, 28, 28)\n",
            "(10000, 28, 28)\n",
            "(10000, 28, 28)\n"
          ]
        }
      ]
    },
    {
      "cell_type": "code",
      "source": [
        "plt.imshow(x_train_b[700])"
      ],
      "metadata": {
        "colab": {
          "base_uri": "https://localhost:8080/",
          "height": 447
        },
        "id": "l9pyGzCL7RJL",
        "outputId": "4efceb50-b546-46fa-ddbe-a86dd342ccc3"
      },
      "execution_count": 41,
      "outputs": [
        {
          "output_type": "execute_result",
          "data": {
            "text/plain": [
              "<matplotlib.image.AxesImage at 0x786d55b532b0>"
            ]
          },
          "metadata": {},
          "execution_count": 41
        },
        {
          "output_type": "display_data",
          "data": {
            "text/plain": [
              "<Figure size 640x480 with 1 Axes>"
            ],
            "image/png": "[encoded data removed]"
          },
          "metadata": {}
        }
      ]
    },
    {
      "cell_type": "code",
      "source": [
        "plt.imshow(x_train_o[700])"
      ],
      "metadata": {
        "colab": {
          "base_uri": "https://localhost:8080/",
          "height": 447
        },
        "id": "01pB9QcY7jSp",
        "outputId": "47da695b-2024-4b17-d020-3e3a573a42c6"
      },
      "execution_count": 42,
      "outputs": [
        {
          "output_type": "execute_result",
          "data": {
            "text/plain": [
              "<matplotlib.image.AxesImage at 0x786d4ea0f190>"
            ]
          },
          "metadata": {},
          "execution_count": 42
        },
        {
          "output_type": "display_data",
          "data": {
            "text/plain": [
              "<Figure size 640x480 with 1 Axes>"
            ],
            "image/png": "[encoded data removed]"
          },
          "metadata": {}
        }
      ]
    },
    {
      "cell_type": "code",
      "source": [
        "# Reshape the training data\n",
        "x_train_b = x_train_b.reshape(x_train_b.shape[0], x_train_b.shape[1], x_train_b.shape[2], 1)\n",
        "\n",
        "# Reshape the testing data\n",
        "x_test_b = x_test_b.reshape(x_test_b.shape[0], x_test_b.shape[1], x_test_b.shape[2], 1)\n",
        "\n",
        "\n",
        "# Reshape the training data\n",
        "x_train_o = x_train_o.reshape(x_train_o.shape[0], x_train_o.shape[1], x_train_o.shape[2], 1)\n",
        "\n",
        "# Reshape the testing data\n",
        "x_test_o = x_test_o.reshape(x_test_o.shape[0], x_test_o.shape[1], x_test_o.shape[2], 1)\n"
      ],
      "metadata": {
        "id": "LP9R1AAG_PfF"
      },
      "execution_count": 43,
      "outputs": []
    },
    {
      "cell_type": "code",
      "source": [
        "print(x_train_b.shape)\n",
        "print(x_test_b.shape)\n",
        "print(x_train_o.shape)\n",
        "print(x_test_o.shape)"
      ],
      "metadata": {
        "colab": {
          "base_uri": "https://localhost:8080/"
        },
        "id": "XP1CmI2DQKHQ",
        "outputId": "bc01eeb2-b2d3-4ab0-83f8-2bbf397e1062"
      },
      "execution_count": 44,
      "outputs": [
        {
          "output_type": "stream",
          "name": "stdout",
          "text": [
            "(60000, 28, 28, 1)\n",
            "(10000, 28, 28, 1)\n",
            "(60000, 28, 28, 1)\n",
            "(10000, 28, 28, 1)\n"
          ]
        }
      ]
    },
    {
      "cell_type": "markdown",
      "source": [
        "# Introduction\n",
        "\n",
        "A Convolutional Neural Network (CNN) is used because of its ability to capture and learn hierarchical features from input data. CNNs have proven to be highly effective in computer vision tasks, including image processing tasks such as motion blur reduction or removal. They can effectively learn and generalize from the input data, making them powerful tools in tasks related to image restoration and enhancement.\n",
        "\n",
        "We have created the following model with 2D convolutional layers with relu as the activation function. We use the kernel size of 3 and 5 overall to observe the results because our images dimension is small as of 28,28 hence it seems a good idea to keep the kernel size less than 7. We later on also tried to go as up as 7 but it did not improve things much so we kept it to 3 and 5 to have less parameters.\n",
        "\n",
        " Input dimensions is fixed to (28,28,1) for grayscale images. Batch size is chosen 30 because at 60 or more there was some overfitting.\n",
        "\n",
        " Output layer is set to have same dimensions as original images for us to be able to have accurate evaluation step."
      ],
      "metadata": {
        "id": "ivZ7lbhmBhdk"
      }
    },
    {
      "cell_type": "markdown",
      "source": [
        "So far we tried multiple combinitions by playing with filter sizes, kernel sizes, number and kind of layers and we have added also some initial models that started to give us good performance. The last model is the final one with best results."
      ],
      "metadata": {
        "id": "rgeNCv-VoQkG"
      }
    },
    {
      "cell_type": "markdown",
      "source": [
        "## Model 1"
      ],
      "metadata": {
        "id": "NPR8k6Euzy_5"
      }
    },
    {
      "cell_type": "code",
      "source": [
        "xin = Input(shape=(28,28,1))\n",
        "x = Conv2D(16,kernel_size=3,padding='same',activation='relu')(xin)\n",
        "x = Conv2D(32,kernel_size=3,padding='same',activation='relu')(x)\n",
        "x = Conv2D(64,kernel_size=3,padding='same',activation='relu')(x)\n",
        "x = Conv2D(128,kernel_size=3,padding='same',activation='relu')(x)\n",
        "x = Conv2D(256,kernel_size=3,padding='same',activation='relu')(x)\n",
        "x = Conv2D(512,kernel_size=3,padding='same',activation='relu')(x)\n",
        "res = Conv2D(1,kernel_size=1,activation='relu')(x)\n",
        "mynet1 = Model(inputs=xin,outputs=res)\n",
        "\n",
        "mynet1.summary()"
      ],
      "metadata": {
        "id": "AwhbyFqRz3eF",
        "colab": {
          "base_uri": "https://localhost:8080/"
        },
        "outputId": "bcf3c68a-7054-4cbb-847c-ea4b859539d2"
      },
      "execution_count": null,
      "outputs": [
        {
          "output_type": "stream",
          "name": "stdout",
          "text": [
            "Model: \"model_4\"\n",
            "_________________________________________________________________\n",
            " Layer (type)                Output Shape              Param #   \n",
            "=================================================================\n",
            " input_5 (InputLayer)        [(None, 28, 28, 1)]       0         \n",
            "                                                                 \n",
            " conv2d_28 (Conv2D)          (None, 28, 28, 16)        160       \n",
            "                                                                 \n",
            " conv2d_29 (Conv2D)          (None, 28, 28, 32)        4640      \n",
            "                                                                 \n",
            " conv2d_30 (Conv2D)          (None, 28, 28, 64)        18496     \n",
            "                                                                 \n",
            " conv2d_31 (Conv2D)          (None, 28, 28, 128)       73856     \n",
            "                                                                 \n",
            " conv2d_32 (Conv2D)          (None, 28, 28, 256)       295168    \n",
            "                                                                 \n",
            " conv2d_33 (Conv2D)          (None, 28, 28, 512)       1180160   \n",
            "                                                                 \n",
            " conv2d_34 (Conv2D)          (None, 28, 28, 1)         513       \n",
            "                                                                 \n",
            "=================================================================\n",
            "Total params: 1572993 (6.00 MB)\n",
            "Trainable params: 1572993 (6.00 MB)\n",
            "Non-trainable params: 0 (0.00 Byte)\n",
            "_________________________________________________________________\n"
          ]
        }
      ]
    },
    {
      "cell_type": "code",
      "source": [
        "mynet1.compile(optimizer='adam',loss='mse', metrics=[tf.keras.metrics.MeanSquaredError()])"
      ],
      "metadata": {
        "id": "9D7TaxdTz6K9"
      },
      "execution_count": null,
      "outputs": []
    },
    {
      "cell_type": "code",
      "source": [
        "history1 = mynet1.fit(x_train_b, x_train_o, shuffle=True, epochs=10, batch_size=30, validation_data=(x_test_b, x_test_o))"
      ],
      "metadata": {
        "colab": {
          "base_uri": "https://localhost:8080/"
        },
        "id": "b2Qo21DLz7a8",
        "outputId": "dd2d85cf-85fb-402e-817e-e485aa231c29"
      },
      "execution_count": null,
      "outputs": [
        {
          "output_type": "stream",
          "name": "stdout",
          "text": [
            "Epoch 1/10\n",
            "2000/2000 [==============================] - 60s 29ms/step - loss: 0.0206 - mean_squared_error: 0.0206 - val_loss: 0.0113 - val_mean_squared_error: 0.0113\n",
            "Epoch 2/10\n",
            "2000/2000 [==============================] - 58s 29ms/step - loss: 0.0099 - mean_squared_error: 0.0099 - val_loss: 0.0086 - val_mean_squared_error: 0.0086\n",
            "Epoch 3/10\n",
            "2000/2000 [==============================] - 61s 31ms/step - loss: 0.0082 - mean_squared_error: 0.0082 - val_loss: 0.0075 - val_mean_squared_error: 0.0075\n",
            "Epoch 4/10\n",
            "2000/2000 [==============================] - 60s 30ms/step - loss: 0.0074 - mean_squared_error: 0.0074 - val_loss: 0.0073 - val_mean_squared_error: 0.0073\n",
            "Epoch 5/10\n",
            "2000/2000 [==============================] - 60s 30ms/step - loss: 0.0069 - mean_squared_error: 0.0069 - val_loss: 0.0067 - val_mean_squared_error: 0.0067\n",
            "Epoch 6/10\n",
            "2000/2000 [==============================] - 58s 29ms/step - loss: 0.0065 - mean_squared_error: 0.0065 - val_loss: 0.0065 - val_mean_squared_error: 0.0065\n",
            "Epoch 7/10\n",
            "2000/2000 [==============================] - 61s 31ms/step - loss: 0.0062 - mean_squared_error: 0.0062 - val_loss: 0.0063 - val_mean_squared_error: 0.0063\n",
            "Epoch 8/10\n",
            "2000/2000 [==============================] - 59s 29ms/step - loss: 0.0059 - mean_squared_error: 0.0059 - val_loss: 0.0062 - val_mean_squared_error: 0.0062\n",
            "Epoch 9/10\n",
            "2000/2000 [==============================] - 59s 30ms/step - loss: 0.0058 - mean_squared_error: 0.0058 - val_loss: 0.0060 - val_mean_squared_error: 0.0060\n",
            "Epoch 10/10\n",
            "2000/2000 [==============================] - 60s 30ms/step - loss: 0.0056 - mean_squared_error: 0.0056 - val_loss: 0.0061 - val_mean_squared_error: 0.0061\n"
          ]
        }
      ]
    },
    {
      "cell_type": "code",
      "source": [
        "mse_scores = []\n",
        "y_pred = mynet1.predict(x_test_b[:])\n",
        "\n",
        "for i in range(10):\n",
        "    # Flatten the image arrays\n",
        "    y_pred_flat = y_pred.reshape(-1)\n",
        "    x_test_flat = x_test_b.reshape(-1)\n",
        "\n",
        "\n",
        "    # Calculate MSE for this round\n",
        "    mse = mean_squared_error(x_test_flat, y_pred_flat)\n",
        "    mse_scores.append(mse)\n",
        "\n",
        "# Calculate mean and standard deviation of MSE scores\n",
        "mean_mse = np.mean(mse_scores)\n",
        "std_mse = np.std(mse_scores)\n",
        "\n",
        "print(f\"Mean MSE over 10 rounds: {mean_mse}\")\n",
        "print(f\"Standard Deviation of MSE: {std_mse}\")"
      ],
      "metadata": {
        "colab": {
          "base_uri": "https://localhost:8080/"
        },
        "id": "jXPyDqQh92AG",
        "outputId": "cc577c90-d2d9-4ebe-9b05-3d277ee1ddb2"
      },
      "execution_count": null,
      "outputs": [
        {
          "output_type": "stream",
          "name": "stdout",
          "text": [
            "313/313 [==============================] - 3s 9ms/step\n",
            "Mean MSE over 10 rounds: 0.05881582945585251\n",
            "Standard Deviation of MSE: 0.0\n"
          ]
        }
      ]
    },
    {
      "cell_type": "markdown",
      "source": [
        "## Model 2"
      ],
      "metadata": {
        "id": "XUel0dl_JQ2y"
      }
    },
    {
      "cell_type": "code",
      "source": [
        "xin = Input(shape=(28,28,1))\n",
        "#first set of conv2d layers\n",
        "x = Conv2D(4,kernel_size=3,padding='same',activation='relu')(xin)\n",
        "x = Conv2D(16,kernel_size=3,padding='same',activation='relu')(x)\n",
        "x = Conv2D(32,kernel_size=5,padding='same',activation='relu')(x)\n",
        "x = Conv2D(256,kernel_size=5,padding='same',activation='relu')(x)\n",
        "x = Conv2D(512,kernel_size=5,padding='same',activation='relu')(x)\n",
        "#second set of conv2d layers\n",
        "x = Conv2D(64,kernel_size=5,padding='same',activation='relu')(x)\n",
        "x = Conv2D(128,kernel_size=5,padding='same',activation='relu')(x)\n",
        "x = Conv2D(256,kernel_size=5,padding='same',activation='relu')(x)\n",
        "x = Conv2D(512,kernel_size=5,padding='same',activation='relu')(x)\n",
        "res = Conv2D(1,kernel_size=1,activation='sigmoid')(x)\n",
        "mynet4 = Model(inputs=xin,outputs=res)\n",
        "\n",
        "mynet4.summary()"
      ],
      "metadata": {
        "colab": {
          "base_uri": "https://localhost:8080/"
        },
        "id": "U_XEdGG-JS_0",
        "outputId": "c3b25e24-1851-4854-bc90-750880dc18c6"
      },
      "execution_count": null,
      "outputs": [
        {
          "output_type": "stream",
          "name": "stdout",
          "text": [
            "Model: \"model_5\"\n",
            "_________________________________________________________________\n",
            " Layer (type)                Output Shape              Param #   \n",
            "=================================================================\n",
            " input_6 (InputLayer)        [(None, 28, 28, 1)]       0         \n",
            "                                                                 \n",
            " conv2d_35 (Conv2D)          (None, 28, 28, 4)         40        \n",
            "                                                                 \n",
            " conv2d_36 (Conv2D)          (None, 28, 28, 16)        592       \n",
            "                                                                 \n",
            " conv2d_37 (Conv2D)          (None, 28, 28, 32)        12832     \n",
            "                                                                 \n",
            " conv2d_38 (Conv2D)          (None, 28, 28, 256)       205056    \n",
            "                                                                 \n",
            " conv2d_39 (Conv2D)          (None, 28, 28, 512)       3277312   \n",
            "                                                                 \n",
            " conv2d_40 (Conv2D)          (None, 28, 28, 64)        819264    \n",
            "                                                                 \n",
            " conv2d_41 (Conv2D)          (None, 28, 28, 128)       204928    \n",
            "                                                                 \n",
            " conv2d_42 (Conv2D)          (None, 28, 28, 256)       819456    \n",
            "                                                                 \n",
            " conv2d_43 (Conv2D)          (None, 28, 28, 512)       3277312   \n",
            "                                                                 \n",
            " conv2d_44 (Conv2D)          (None, 28, 28, 1)         513       \n",
            "                                                                 \n",
            "=================================================================\n",
            "Total params: 8617305 (32.87 MB)\n",
            "Trainable params: 8617305 (32.87 MB)\n",
            "Non-trainable params: 0 (0.00 Byte)\n",
            "_________________________________________________________________\n"
          ]
        }
      ]
    },
    {
      "cell_type": "code",
      "source": [
        "mynet4.compile(optimizer='adam',loss='mse', metrics=[tf.keras.metrics.MeanSquaredError()])"
      ],
      "metadata": {
        "id": "eIpC6IGBJrfF"
      },
      "execution_count": null,
      "outputs": []
    },
    {
      "cell_type": "code",
      "source": [
        "history4 = mynet4.fit(x_train_b, x_train_o, shuffle=True, epochs=10, batch_size=30, validation_data=(x_test_b, x_test_o))"
      ],
      "metadata": {
        "colab": {
          "base_uri": "https://localhost:8080/"
        },
        "id": "J0Pnwod4Jt9k",
        "outputId": "bee84fab-05da-4ae2-955c-1d71a96dabf5"
      },
      "execution_count": null,
      "outputs": [
        {
          "output_type": "stream",
          "name": "stdout",
          "text": [
            "Epoch 1/10\n",
            "2000/2000 [==============================] - 203s 97ms/step - loss: 0.1123 - mean_squared_error: 0.1123 - val_loss: 0.1145 - val_mean_squared_error: 0.1145\n",
            "Epoch 2/10\n",
            "2000/2000 [==============================] - 183s 92ms/step - loss: 0.1122 - mean_squared_error: 0.1122 - val_loss: 0.1145 - val_mean_squared_error: 0.1145\n",
            "Epoch 3/10\n",
            "2000/2000 [==============================] - 183s 92ms/step - loss: 0.1122 - mean_squared_error: 0.1122 - val_loss: 0.1145 - val_mean_squared_error: 0.1145\n",
            "Epoch 4/10\n",
            "2000/2000 [==============================] - 181s 91ms/step - loss: 0.1122 - mean_squared_error: 0.1122 - val_loss: 0.1145 - val_mean_squared_error: 0.1145\n",
            "Epoch 5/10\n",
            "2000/2000 [==============================] - 182s 91ms/step - loss: 0.1122 - mean_squared_error: 0.1122 - val_loss: 0.1145 - val_mean_squared_error: 0.1145\n",
            "Epoch 6/10\n",
            "2000/2000 [==============================] - 181s 91ms/step - loss: 0.1122 - mean_squared_error: 0.1122 - val_loss: 0.1145 - val_mean_squared_error: 0.1145\n",
            "Epoch 7/10\n",
            "2000/2000 [==============================] - 182s 91ms/step - loss: 0.1122 - mean_squared_error: 0.1122 - val_loss: 0.1145 - val_mean_squared_error: 0.1145\n",
            "Epoch 8/10\n",
            "2000/2000 [==============================] - 181s 90ms/step - loss: 0.1122 - mean_squared_error: 0.1122 - val_loss: 0.1145 - val_mean_squared_error: 0.1145\n",
            "Epoch 9/10\n",
            "2000/2000 [==============================] - 181s 90ms/step - loss: 0.1122 - mean_squared_error: 0.1122 - val_loss: 0.1145 - val_mean_squared_error: 0.1145\n",
            "Epoch 10/10\n",
            "2000/2000 [==============================] - 182s 91ms/step - loss: 0.1122 - mean_squared_error: 0.1122 - val_loss: 0.1145 - val_mean_squared_error: 0.1145\n"
          ]
        }
      ]
    },
    {
      "cell_type": "code",
      "source": [
        "mse_scores = []\n",
        "y_pred = mynet4.predict(x_test_b[:])\n",
        "\n",
        "for i in range(10):\n",
        "    # Flatten the image arrays\n",
        "    y_pred_flat = y_pred.reshape(-1)\n",
        "    x_test_flat = x_test_b.reshape(-1)\n",
        "\n",
        "\n",
        "    # Calculate MSE for this round\n",
        "    mse = mean_squared_error(x_test_flat, y_pred_flat)\n",
        "    mse_scores.append(mse)\n",
        "\n",
        "# Calculate mean and standard deviation of MSE scores\n",
        "mean_mse = np.mean(mse_scores)\n",
        "std_mse = np.std(mse_scores)\n",
        "\n",
        "print(f\"Mean MSE over 10 rounds: {mean_mse}\")\n",
        "print(f\"Standard Deviation of MSE: {std_mse}\")"
      ],
      "metadata": {
        "colab": {
          "base_uri": "https://localhost:8080/"
        },
        "id": "kUH1JYh2Tt7q",
        "outputId": "010fe21f-5f2a-4857-cf8d-9ac0efb6321b"
      },
      "execution_count": null,
      "outputs": [
        {
          "output_type": "stream",
          "name": "stdout",
          "text": [
            "313/313 [==============================] - 12s 31ms/step\n",
            "Mean MSE over 10 rounds: 0.05887322500348091\n",
            "Standard Deviation of MSE: 0.0\n"
          ]
        }
      ]
    },
    {
      "cell_type": "markdown",
      "source": [
        "Since, using this kind of dual layer groups gave worse results, we ignore this approach and move on to modifying our model two that has given best results so far"
      ],
      "metadata": {
        "id": "JPz4Q0T4pkcg"
      }
    },
    {
      "cell_type": "markdown",
      "source": [
        "## Model 3"
      ],
      "metadata": {
        "id": "W3WEFLORjkB4"
      }
    },
    {
      "cell_type": "code",
      "source": [
        "xin = Input(shape=(28,28,1))\n",
        "x = Conv2D(4,kernel_size=3,padding='same',activation='relu')(xin)\n",
        "x = Conv2D(16,kernel_size=3,padding='same',activation='relu')(x)\n",
        "x = Conv2D(32,kernel_size=3,padding='same',activation='relu')(x)\n",
        "x = Conv2D(64,kernel_size=3,padding='same',activation='relu')(x)\n",
        "x = Conv2D(128,kernel_size=3,padding='same',activation='relu')(x)\n",
        "x = Conv2D(256,kernel_size=3,padding='same',activation='relu')(x)\n",
        "x = Conv2D(512,kernel_size=3,padding='same',activation='relu')(x)\n",
        "res = Conv2D(1,kernel_size=1,activation='relu')(x)\n",
        "mynet5 = Model(inputs=xin,outputs=res)\n",
        "\n",
        "mynet5.compile(optimizer='adam', loss='mse', metrics=[tf.keras.metrics.MeanSquaredError()])\n",
        "\n",
        "# Define EarlyStopping callback\n",
        "early_stopping = EarlyStopping(monitor='val_loss', patience=3, verbose=1, mode='min', restore_best_weights=True)\n",
        "\n",
        "# Fit the model with the EarlyStopping callback\n",
        "history5 = mynet5.fit(\n",
        "    x_train_b, x_train_o,\n",
        "    shuffle=True,\n",
        "    epochs=50,\n",
        "    batch_size=60,\n",
        "    validation_data=(x_test_b, x_test_o),\n",
        "    callbacks=[early_stopping]\n",
        ")"
      ],
      "metadata": {
        "colab": {
          "base_uri": "https://localhost:8080/"
        },
        "id": "J2NbCa6ljljc",
        "outputId": "b1a95ab6-5884-49d2-fa41-4991107cd5c5"
      },
      "execution_count": null,
      "outputs": [
        {
          "output_type": "stream",
          "name": "stdout",
          "text": [
            "Epoch 1/50\n",
            "1000/1000 [==============================] - 64s 57ms/step - loss: 0.0301 - mean_squared_error: 0.0301 - val_loss: 0.0150 - val_mean_squared_error: 0.0150\n",
            "Epoch 2/50\n",
            "1000/1000 [==============================] - 55s 55ms/step - loss: 0.0122 - mean_squared_error: 0.0122 - val_loss: 0.0105 - val_mean_squared_error: 0.0105\n",
            "Epoch 3/50\n",
            "1000/1000 [==============================] - 57s 57ms/step - loss: 0.0095 - mean_squared_error: 0.0095 - val_loss: 0.0085 - val_mean_squared_error: 0.0085\n",
            "Epoch 4/50\n",
            "1000/1000 [==============================] - 57s 57ms/step - loss: 0.0082 - mean_squared_error: 0.0082 - val_loss: 0.0078 - val_mean_squared_error: 0.0078\n",
            "Epoch 5/50\n",
            "1000/1000 [==============================] - 55s 55ms/step - loss: 0.0074 - mean_squared_error: 0.0074 - val_loss: 0.0073 - val_mean_squared_error: 0.0073\n",
            "Epoch 6/50\n",
            "1000/1000 [==============================] - 57s 57ms/step - loss: 0.0069 - mean_squared_error: 0.0069 - val_loss: 0.0071 - val_mean_squared_error: 0.0071\n",
            "Epoch 7/50\n",
            "1000/1000 [==============================] - 55s 55ms/step - loss: 0.0065 - mean_squared_error: 0.0065 - val_loss: 0.0068 - val_mean_squared_error: 0.0068\n",
            "Epoch 8/50\n",
            "1000/1000 [==============================] - 54s 54ms/step - loss: 0.0062 - mean_squared_error: 0.0062 - val_loss: 0.0064 - val_mean_squared_error: 0.0064\n",
            "Epoch 9/50\n",
            "1000/1000 [==============================] - 54s 54ms/step - loss: 0.0059 - mean_squared_error: 0.0059 - val_loss: 0.0063 - val_mean_squared_error: 0.0063\n",
            "Epoch 10/50\n",
            "1000/1000 [==============================] - 57s 57ms/step - loss: 0.0058 - mean_squared_error: 0.0058 - val_loss: 0.0062 - val_mean_squared_error: 0.0062\n",
            "Epoch 11/50\n",
            "1000/1000 [==============================] - 57s 57ms/step - loss: 0.0055 - mean_squared_error: 0.0055 - val_loss: 0.0062 - val_mean_squared_error: 0.0062\n",
            "Epoch 12/50\n",
            "1000/1000 [==============================] - 57s 57ms/step - loss: 0.0054 - mean_squared_error: 0.0054 - val_loss: 0.0060 - val_mean_squared_error: 0.0060\n",
            "Epoch 13/50\n",
            "1000/1000 [==============================] - 55s 55ms/step - loss: 0.0052 - mean_squared_error: 0.0052 - val_loss: 0.0059 - val_mean_squared_error: 0.0059\n",
            "Epoch 14/50\n",
            "1000/1000 [==============================] - 57s 57ms/step - loss: 0.0050 - mean_squared_error: 0.0050 - val_loss: 0.0059 - val_mean_squared_error: 0.0059\n",
            "Epoch 15/50\n",
            "1000/1000 [==============================] - 56s 56ms/step - loss: 0.0049 - mean_squared_error: 0.0049 - val_loss: 0.0059 - val_mean_squared_error: 0.0059\n",
            "Epoch 16/50\n",
            "1000/1000 [==============================] - 56s 56ms/step - loss: 0.0048 - mean_squared_error: 0.0048 - val_loss: 0.0060 - val_mean_squared_error: 0.0060\n",
            "Epoch 17/50\n",
            "1000/1000 [==============================] - 54s 54ms/step - loss: 0.0046 - mean_squared_error: 0.0046 - val_loss: 0.0058 - val_mean_squared_error: 0.0058\n",
            "Epoch 18/50\n",
            "1000/1000 [==============================] - 56s 56ms/step - loss: 0.0045 - mean_squared_error: 0.0045 - val_loss: 0.0057 - val_mean_squared_error: 0.0057\n",
            "Epoch 19/50\n",
            "1000/1000 [==============================] - 57s 56ms/step - loss: 0.0044 - mean_squared_error: 0.0044 - val_loss: 0.0059 - val_mean_squared_error: 0.0059\n",
            "Epoch 20/50\n",
            "1000/1000 [==============================] - 57s 57ms/step - loss: 0.0043 - mean_squared_error: 0.0043 - val_loss: 0.0058 - val_mean_squared_error: 0.0058\n",
            "Epoch 21/50\n",
            "1000/1000 [==============================] - ETA: 0s - loss: 0.0042 - mean_squared_error: 0.0042Restoring model weights from the end of the best epoch: 18.\n",
            "1000/1000 [==============================] - 57s 57ms/step - loss: 0.0042 - mean_squared_error: 0.0042 - val_loss: 0.0058 - val_mean_squared_error: 0.0058\n",
            "Epoch 21: early stopping\n"
          ]
        }
      ]
    },
    {
      "cell_type": "code",
      "source": [
        "def plot_history(model_history,keys):\n",
        "    m,val_m = keys\n",
        "    plt.plot(model_history.history[m])\n",
        "    plt.plot(model_history.history[val_m])\n",
        "    plt.ylabel(m)\n",
        "    plt.xlabel('epoch')\n",
        "    plt.legend(['train', 'test'], loc='upper left')\n",
        "    plt.show()\n",
        "\n",
        "plot_history(history5,['loss','val_loss'])"
      ],
      "metadata": {
        "colab": {
          "base_uri": "https://localhost:8080/",
          "height": 449
        },
        "id": "HRF91rRgpei_",
        "outputId": "ba0b6ab5-a4ea-4409-87a9-5957f72c6e7a"
      },
      "execution_count": null,
      "outputs": [
        {
          "output_type": "display_data",
          "data": {
            "text/plain": [
              "<Figure size 640x480 with 1 Axes>"
            ],
            "image/png": "[encoded data removed]"
          },
          "metadata": {}
        }
      ]
    },
    {
      "cell_type": "code",
      "source": [
        "mse_scores = []\n",
        "y_pred = mynet5.predict(x_test_b[:])\n",
        "\n",
        "for i in range(10):\n",
        "    # Flatten the image arrays\n",
        "    y_pred_flat = y_pred.reshape(-1)\n",
        "    x_test_flat = x_test_b.reshape(-1)\n",
        "\n",
        "\n",
        "    # Calculate MSE for this round\n",
        "    mse = mean_squared_error(x_test_flat, y_pred_flat)\n",
        "    mse_scores.append(mse)\n",
        "\n",
        "# Calculate mean and standard deviation of MSE scores\n",
        "mean_mse = np.mean(mse_scores)\n",
        "std_mse = np.std(mse_scores)\n",
        "\n",
        "print(f\"Mean MSE over 10 rounds: {mean_mse}\")\n",
        "print(f\"Standard Deviation of MSE: {std_mse}\")"
      ],
      "metadata": {
        "id": "qABEwGODAE-u",
        "colab": {
          "base_uri": "https://localhost:8080/"
        },
        "outputId": "5fc51fd3-8a8c-45d8-d83a-192f43ab60e0"
      },
      "execution_count": null,
      "outputs": [
        {
          "output_type": "stream",
          "name": "stdout",
          "text": [
            "313/313 [==============================] - 3s 9ms/step\n",
            "Mean MSE over 10 rounds: 0.047293148934841156\n",
            "Standard Deviation of MSE: 3.725290298461914e-09\n"
          ]
        }
      ]
    },
    {
      "cell_type": "markdown",
      "source": [
        "## Model 4"
      ],
      "metadata": {
        "id": "cbrxUQt7qQsL"
      }
    },
    {
      "cell_type": "markdown",
      "source": [
        "Lets try to add some dropout layers to see if they make any differnce in fixing the overfitting."
      ],
      "metadata": {
        "id": "x6dw0YlhqdTp"
      }
    },
    {
      "cell_type": "code",
      "source": [
        "xin = Input(shape=(28,28,1))\n",
        "x = Conv2D(4,kernel_size=3,padding='same',activation='relu')(xin)\n",
        "x = Conv2D(16,kernel_size=3,padding='same',activation='relu')(x)\n",
        "x = Conv2D(32,kernel_size=3,padding='same',activation='relu')(x)\n",
        "x = Dropout(0.25)(x)\n",
        "x = Conv2D(64,kernel_size=3,padding='same',activation='relu')(x)\n",
        "x = Conv2D(128,kernel_size=3,padding='same',activation='relu')(x)\n",
        "x = Conv2D(256,kernel_size=3,padding='same',activation='relu')(x)\n",
        "x = Conv2D(512,kernel_size=3,padding='same',activation='relu')(x)\n",
        "x = Dropout(0.25)(x)\n",
        "res = Conv2D(1,kernel_size=1,activation='relu')(x)\n",
        "\n",
        "\n",
        "mynet6 = Model(inputs=xin,outputs=res)\n",
        "mynet6.compile(optimizer='adam', loss='mse', metrics=[tf.keras.metrics.MeanSquaredError()])\n",
        "\n",
        "# Define EarlyStopping callback\n",
        "early_stopping = EarlyStopping(monitor='val_loss', patience=3, verbose=1, mode='min', restore_best_weights=True)\n",
        "\n",
        "# Fit the model with the EarlyStopping callback\n",
        "history6 = mynet6.fit(\n",
        "    x_train_b, x_train_o,\n",
        "    shuffle=True,\n",
        "    epochs=50,\n",
        "    batch_size=60,\n",
        "    validation_data=(x_test_b, x_test_o),\n",
        "    callbacks=[early_stopping]\n",
        ")"
      ],
      "metadata": {
        "colab": {
          "base_uri": "https://localhost:8080/"
        },
        "id": "dDcrrdMXqXdr",
        "outputId": "dff92ad9-09a7-44d4-bd19-65d5550a1b5a"
      },
      "execution_count": null,
      "outputs": [
        {
          "output_type": "stream",
          "name": "stdout",
          "text": [
            "Epoch 1/50\n",
            "1000/1000 [==============================] - 73s 71ms/step - loss: 0.0330 - mean_squared_error: 0.0330 - val_loss: 0.0171 - val_mean_squared_error: 0.0171\n",
            "Epoch 2/50\n",
            "1000/1000 [==============================] - 68s 68ms/step - loss: 0.0143 - mean_squared_error: 0.0143 - val_loss: 0.0106 - val_mean_squared_error: 0.0106\n",
            "Epoch 3/50\n",
            "1000/1000 [==============================] - 68s 68ms/step - loss: 0.0107 - mean_squared_error: 0.0107 - val_loss: 0.0086 - val_mean_squared_error: 0.0086\n",
            "Epoch 4/50\n",
            "1000/1000 [==============================] - 68s 68ms/step - loss: 0.0093 - mean_squared_error: 0.0093 - val_loss: 0.0076 - val_mean_squared_error: 0.0076\n",
            "Epoch 5/50\n",
            "1000/1000 [==============================] - 68s 68ms/step - loss: 0.0085 - mean_squared_error: 0.0085 - val_loss: 0.0076 - val_mean_squared_error: 0.0076\n",
            "Epoch 6/50\n",
            "1000/1000 [==============================] - 66s 66ms/step - loss: 0.0079 - mean_squared_error: 0.0079 - val_loss: 0.0069 - val_mean_squared_error: 0.0069\n",
            "Epoch 7/50\n",
            "1000/1000 [==============================] - 65s 65ms/step - loss: 0.0075 - mean_squared_error: 0.0075 - val_loss: 0.0075 - val_mean_squared_error: 0.0075\n",
            "Epoch 8/50\n",
            "1000/1000 [==============================] - 65s 65ms/step - loss: 0.0072 - mean_squared_error: 0.0072 - val_loss: 0.0064 - val_mean_squared_error: 0.0064\n",
            "Epoch 9/50\n",
            "1000/1000 [==============================] - 68s 68ms/step - loss: 0.0069 - mean_squared_error: 0.0069 - val_loss: 0.0063 - val_mean_squared_error: 0.0063\n",
            "Epoch 10/50\n",
            "1000/1000 [==============================] - 68s 68ms/step - loss: 0.0067 - mean_squared_error: 0.0067 - val_loss: 0.0059 - val_mean_squared_error: 0.0059\n",
            "Epoch 11/50\n",
            "1000/1000 [==============================] - 68s 68ms/step - loss: 0.0065 - mean_squared_error: 0.0065 - val_loss: 0.0058 - val_mean_squared_error: 0.0058\n",
            "Epoch 12/50\n",
            "1000/1000 [==============================] - 68s 68ms/step - loss: 0.0063 - mean_squared_error: 0.0063 - val_loss: 0.0057 - val_mean_squared_error: 0.0057\n",
            "Epoch 13/50\n",
            "1000/1000 [==============================] - 68s 68ms/step - loss: 0.0062 - mean_squared_error: 0.0062 - val_loss: 0.0057 - val_mean_squared_error: 0.0057\n",
            "Epoch 14/50\n",
            "1000/1000 [==============================] - 68s 68ms/step - loss: 0.0061 - mean_squared_error: 0.0061 - val_loss: 0.0056 - val_mean_squared_error: 0.0056\n",
            "Epoch 15/50\n",
            "1000/1000 [==============================] - 68s 68ms/step - loss: 0.0060 - mean_squared_error: 0.0060 - val_loss: 0.0055 - val_mean_squared_error: 0.0055\n",
            "Epoch 16/50\n",
            "1000/1000 [==============================] - 68s 68ms/step - loss: 0.0059 - mean_squared_error: 0.0059 - val_loss: 0.0055 - val_mean_squared_error: 0.0055\n",
            "Epoch 17/50\n",
            "1000/1000 [==============================] - 66s 66ms/step - loss: 0.0058 - mean_squared_error: 0.0058 - val_loss: 0.0054 - val_mean_squared_error: 0.0054\n",
            "Epoch 18/50\n",
            "1000/1000 [==============================] - 66s 66ms/step - loss: 0.0058 - mean_squared_error: 0.0058 - val_loss: 0.0053 - val_mean_squared_error: 0.0053\n",
            "Epoch 19/50\n",
            "1000/1000 [==============================] - 66s 66ms/step - loss: 0.0057 - mean_squared_error: 0.0057 - val_loss: 0.0053 - val_mean_squared_error: 0.0053\n",
            "Epoch 20/50\n",
            "1000/1000 [==============================] - 68s 68ms/step - loss: 0.0056 - mean_squared_error: 0.0056 - val_loss: 0.0052 - val_mean_squared_error: 0.0052\n",
            "Epoch 21/50\n",
            "1000/1000 [==============================] - 68s 68ms/step - loss: 0.0055 - mean_squared_error: 0.0055 - val_loss: 0.0052 - val_mean_squared_error: 0.0052\n",
            "Epoch 22/50\n",
            "1000/1000 [==============================] - 66s 66ms/step - loss: 0.0055 - mean_squared_error: 0.0055 - val_loss: 0.0054 - val_mean_squared_error: 0.0054\n",
            "Epoch 23/50\n",
            "1000/1000 [==============================] - ETA: 0s - loss: 0.0054 - mean_squared_error: 0.0054Restoring model weights from the end of the best epoch: 20.\n",
            "1000/1000 [==============================] - 68s 68ms/step - loss: 0.0054 - mean_squared_error: 0.0054 - val_loss: 0.0052 - val_mean_squared_error: 0.0052\n",
            "Epoch 23: early stopping\n"
          ]
        }
      ]
    },
    {
      "cell_type": "code",
      "source": [
        "def plot_history(model_history,keys):\n",
        "    m,val_m = keys\n",
        "    plt.plot(model_history.history[m])\n",
        "    plt.plot(model_history.history[val_m])\n",
        "    plt.ylabel(m)\n",
        "    plt.xlabel('epoch')\n",
        "    plt.legend(['train', 'test'], loc='upper left')\n",
        "    plt.show()\n",
        "\n",
        "plot_history(history6,['loss','val_loss'])"
      ],
      "metadata": {
        "colab": {
          "base_uri": "https://localhost:8080/",
          "height": 449
        },
        "id": "-yrdRKALq7Pp",
        "outputId": "b1b4e341-dad4-4a16-9045-ffaa62b61703"
      },
      "execution_count": null,
      "outputs": [
        {
          "output_type": "display_data",
          "data": {
            "text/plain": [
              "<Figure size 640x480 with 1 Axes>"
            ],
            "image/png": "[encoded data removed]"
          },
          "metadata": {}
        }
      ]
    },
    {
      "cell_type": "markdown",
      "source": [
        "our training loss is consistently decreasing, which is good. However, the validation loss decreases initially but then starts to plateau and even slightly increase. This is a classic sign of overfitting - the model is getting better at predicting the training data, but its performance on the validation data is not improving at the same rate."
      ],
      "metadata": {
        "id": "ZU1we9XEqWIj"
      }
    },
    {
      "cell_type": "code",
      "source": [
        "mse_scores = []\n",
        "y_pred = mynet6.predict(x_test_b[:])\n",
        "\n",
        "for i in range(10):\n",
        "    # Flatten the image arrays\n",
        "    y_pred_flat = y_pred.reshape(-1)\n",
        "    x_test_flat = x_test_b.reshape(-1)\n",
        "\n",
        "\n",
        "    # Calculate MSE for this round\n",
        "    mse = mean_squared_error(x_test_flat, y_pred_flat)\n",
        "    mse_scores.append(mse)\n",
        "\n",
        "# Calculate mean and standard deviation of MSE scores\n",
        "mean_mse = np.mean(mse_scores)\n",
        "std_mse = np.std(mse_scores)\n",
        "\n",
        "print(f\"Mean MSE over 10 rounds: {mean_mse}\")\n",
        "print(f\"Standard Deviation of MSE: {std_mse}\")"
      ],
      "metadata": {
        "colab": {
          "base_uri": "https://localhost:8080/"
        },
        "id": "E--axHNyvAbl",
        "outputId": "8803348a-5946-470f-c36c-5f2c07228c4e"
      },
      "execution_count": null,
      "outputs": [
        {
          "output_type": "stream",
          "name": "stdout",
          "text": [
            "313/313 [==============================] - 4s 11ms/step\n",
            "Mean MSE over 10 rounds: 0.04767486825585365\n",
            "Standard Deviation of MSE: 0.0\n"
          ]
        }
      ]
    },
    {
      "cell_type": "markdown",
      "source": [
        "## Model 5 - Final Model with average mse = 0.045"
      ],
      "metadata": {
        "id": "QaPbeANmFwdF"
      }
    },
    {
      "cell_type": "code",
      "source": [
        "xin = Input(shape=(28,28,1))\n",
        "x = Conv2D(4,kernel_size=3,padding='same',activation='relu')(xin)\n",
        "x = Conv2D(16,kernel_size=3,padding='same',activation='relu')(x)\n",
        "x = Conv2D(32,kernel_size=3,padding='same',activation='relu')(x)\n",
        "x = Conv2D(64,kernel_size=3,padding='same',activation='relu')(x)\n",
        "x = Conv2D(128,kernel_size=3,padding='same',activation='relu')(x)\n",
        "x = Conv2D(256,kernel_size=3,padding='same',activation='relu')(x)\n",
        "x = Conv2D(512,kernel_size=3,padding='same',activation='relu')(x)\n",
        "res = Conv2D(1,kernel_size=1,activation='relu')(x)\n",
        "mynet5 = Model(inputs=xin,outputs=res)\n",
        "\n",
        "mynet5.summary()"
      ],
      "metadata": {
        "id": "YIp_ewhgFy6h",
        "colab": {
          "base_uri": "https://localhost:8080/"
        },
        "outputId": "28c4a7dc-5f0d-4640-e04d-f5ddd1b48a18"
      },
      "execution_count": 50,
      "outputs": [
        {
          "output_type": "stream",
          "name": "stdout",
          "text": [
            "Model: \"model_5\"\n",
            "_________________________________________________________________\n",
            " Layer (type)                Output Shape              Param #   \n",
            "=================================================================\n",
            " input_6 (InputLayer)        [(None, 28, 28, 1)]       0         \n",
            "                                                                 \n",
            " conv2d_40 (Conv2D)          (None, 28, 28, 4)         40        \n",
            "                                                                 \n",
            " conv2d_41 (Conv2D)          (None, 28, 28, 16)        592       \n",
            "                                                                 \n",
            " conv2d_42 (Conv2D)          (None, 28, 28, 32)        4640      \n",
            "                                                                 \n",
            " conv2d_43 (Conv2D)          (None, 28, 28, 64)        18496     \n",
            "                                                                 \n",
            " conv2d_44 (Conv2D)          (None, 28, 28, 128)       73856     \n",
            "                                                                 \n",
            " conv2d_45 (Conv2D)          (None, 28, 28, 256)       295168    \n",
            "                                                                 \n",
            " conv2d_46 (Conv2D)          (None, 28, 28, 512)       1180160   \n",
            "                                                                 \n",
            " conv2d_47 (Conv2D)          (None, 28, 28, 1)         513       \n",
            "                                                                 \n",
            "=================================================================\n",
            "Total params: 1573465 (6.00 MB)\n",
            "Trainable params: 1573465 (6.00 MB)\n",
            "Non-trainable params: 0 (0.00 Byte)\n",
            "_________________________________________________________________\n"
          ]
        }
      ]
    },
    {
      "cell_type": "code",
      "source": [
        "mynet5.compile(optimizer='adam',loss='mse', metrics=[tf.keras.metrics.MeanSquaredError()])"
      ],
      "metadata": {
        "id": "v5wj5-hEF5B2"
      },
      "execution_count": 51,
      "outputs": []
    },
    {
      "cell_type": "code",
      "source": [
        "checkpoint_path = 'model_checkpoint.h5'\n",
        "checkpoint = ModelCheckpoint(checkpoint_path, monitor='val_accuracy', save_best_only=True, mode='max')"
      ],
      "metadata": {
        "id": "ZcMHl6Tuv53J"
      },
      "execution_count": 53,
      "outputs": []
    },
    {
      "cell_type": "code",
      "source": [
        "history5 = mynet5.fit(x_train_b, x_train_o, shuffle=True, epochs=10, batch_size=30, validation_data=(x_test_b, x_test_o),callbacks=[checkpoint])\n"
      ],
      "metadata": {
        "colab": {
          "base_uri": "https://localhost:8080/"
        },
        "id": "tDQqZEpeF8ER",
        "outputId": "c3efabe4-8334-49f1-85a8-1f33fe29f1d6"
      },
      "execution_count": 54,
      "outputs": [
        {
          "output_type": "stream",
          "name": "stdout",
          "text": [
            "Epoch 1/10\n",
            "1999/2000 [============================>.] - ETA: 0s - loss: 0.0115 - mean_squared_error: 0.0115"
          ]
        },
        {
          "output_type": "stream",
          "name": "stderr",
          "text": [
            "WARNING:tensorflow:Can save best model only with val_accuracy available, skipping.\n"
          ]
        },
        {
          "output_type": "stream",
          "name": "stdout",
          "text": [
            "\b\b\b\b\b\b\b\b\b\b\b\b\b\b\b\b\b\b\b\b\b\b\b\b\b\b\b\b\b\b\b\b\b\b\b\b\b\b\b\b\b\b\b\b\b\b\b\b\b\b\b\b\b\b\b\b\b\b\b\b\b\b\b\b\b\b\b\b\b\b\b\b\b\b\b\b\b\b\b\b\b\b\b\b\b\b\b\b\b\b\b\b\b\b\b\b\r2000/2000 [==============================] - 59s 29ms/step - loss: 0.0115 - mean_squared_error: 0.0115 - val_loss: 0.0092 - val_mean_squared_error: 0.0092\n",
            "Epoch 2/10\n",
            "1999/2000 [============================>.] - ETA: 0s - loss: 0.0084 - mean_squared_error: 0.0084"
          ]
        },
        {
          "output_type": "stream",
          "name": "stderr",
          "text": [
            "WARNING:tensorflow:Can save best model only with val_accuracy available, skipping.\n"
          ]
        },
        {
          "output_type": "stream",
          "name": "stdout",
          "text": [
            "\b\b\b\b\b\b\b\b\b\b\b\b\b\b\b\b\b\b\b\b\b\b\b\b\b\b\b\b\b\b\b\b\b\b\b\b\b\b\b\b\b\b\b\b\b\b\b\b\b\b\b\b\b\b\b\b\b\b\b\b\b\b\b\b\b\b\b\b\b\b\b\b\b\b\b\b\b\b\b\b\b\b\b\b\b\b\b\b\b\b\b\b\b\b\b\b\r2000/2000 [==============================] - 59s 29ms/step - loss: 0.0084 - mean_squared_error: 0.0084 - val_loss: 0.0079 - val_mean_squared_error: 0.0079\n",
            "Epoch 3/10\n",
            "1999/2000 [============================>.] - ETA: 0s - loss: 0.0073 - mean_squared_error: 0.0073"
          ]
        },
        {
          "output_type": "stream",
          "name": "stderr",
          "text": [
            "WARNING:tensorflow:Can save best model only with val_accuracy available, skipping.\n"
          ]
        },
        {
          "output_type": "stream",
          "name": "stdout",
          "text": [
            "\b\b\b\b\b\b\b\b\b\b\b\b\b\b\b\b\b\b\b\b\b\b\b\b\b\b\b\b\b\b\b\b\b\b\b\b\b\b\b\b\b\b\b\b\b\b\b\b\b\b\b\b\b\b\b\b\b\b\b\b\b\b\b\b\b\b\b\b\b\b\b\b\b\b\b\b\b\b\b\b\b\b\b\b\b\b\b\b\b\b\b\b\b\b\b\b\r2000/2000 [==============================] - 58s 29ms/step - loss: 0.0073 - mean_squared_error: 0.0073 - val_loss: 0.0070 - val_mean_squared_error: 0.0070\n",
            "Epoch 4/10\n",
            "2000/2000 [==============================] - ETA: 0s - loss: 0.0067 - mean_squared_error: 0.0067"
          ]
        },
        {
          "output_type": "stream",
          "name": "stderr",
          "text": [
            "WARNING:tensorflow:Can save best model only with val_accuracy available, skipping.\n"
          ]
        },
        {
          "output_type": "stream",
          "name": "stdout",
          "text": [
            "\b\b\b\b\b\b\b\b\b\b\b\b\b\b\b\b\b\b\b\b\b\b\b\b\b\b\b\b\b\b\b\b\b\b\b\b\b\b\b\b\b\b\b\b\b\b\b\b\b\b\b\b\b\b\b\b\b\b\b\b\b\b\b\b\b\b\b\b\b\b\b\b\b\b\b\b\b\b\b\b\b\b\b\b\b\b\b\b\b\b\b\b\b\b\b\b\r2000/2000 [==============================] - 61s 30ms/step - loss: 0.0067 - mean_squared_error: 0.0067 - val_loss: 0.0069 - val_mean_squared_error: 0.0069\n",
            "Epoch 5/10\n",
            "1999/2000 [============================>.] - ETA: 0s - loss: 0.0063 - mean_squared_error: 0.0063"
          ]
        },
        {
          "output_type": "stream",
          "name": "stderr",
          "text": [
            "WARNING:tensorflow:Can save best model only with val_accuracy available, skipping.\n"
          ]
        },
        {
          "output_type": "stream",
          "name": "stdout",
          "text": [
            "\b\b\b\b\b\b\b\b\b\b\b\b\b\b\b\b\b\b\b\b\b\b\b\b\b\b\b\b\b\b\b\b\b\b\b\b\b\b\b\b\b\b\b\b\b\b\b\b\b\b\b\b\b\b\b\b\b\b\b\b\b\b\b\b\b\b\b\b\b\b\b\b\b\b\b\b\b\b\b\b\b\b\b\b\b\b\b\b\b\b\b\b\b\b\b\b\r2000/2000 [==============================] - 58s 29ms/step - loss: 0.0063 - mean_squared_error: 0.0063 - val_loss: 0.0063 - val_mean_squared_error: 0.0063\n",
            "Epoch 6/10\n",
            "1999/2000 [============================>.] - ETA: 0s - loss: 0.0059 - mean_squared_error: 0.0059"
          ]
        },
        {
          "output_type": "stream",
          "name": "stderr",
          "text": [
            "WARNING:tensorflow:Can save best model only with val_accuracy available, skipping.\n"
          ]
        },
        {
          "output_type": "stream",
          "name": "stdout",
          "text": [
            "\b\b\b\b\b\b\b\b\b\b\b\b\b\b\b\b\b\b\b\b\b\b\b\b\b\b\b\b\b\b\b\b\b\b\b\b\b\b\b\b\b\b\b\b\b\b\b\b\b\b\b\b\b\b\b\b\b\b\b\b\b\b\b\b\b\b\b\b\b\b\b\b\b\b\b\b\b\b\b\b\b\b\b\b\b\b\b\b\b\b\b\b\b\b\b\b\r2000/2000 [==============================] - 57s 29ms/step - loss: 0.0059 - mean_squared_error: 0.0059 - val_loss: 0.0062 - val_mean_squared_error: 0.0062\n",
            "Epoch 7/10\n",
            "1999/2000 [============================>.] - ETA: 0s - loss: 0.0057 - mean_squared_error: 0.0057"
          ]
        },
        {
          "output_type": "stream",
          "name": "stderr",
          "text": [
            "WARNING:tensorflow:Can save best model only with val_accuracy available, skipping.\n"
          ]
        },
        {
          "output_type": "stream",
          "name": "stdout",
          "text": [
            "\b\b\b\b\b\b\b\b\b\b\b\b\b\b\b\b\b\b\b\b\b\b\b\b\b\b\b\b\b\b\b\b\b\b\b\b\b\b\b\b\b\b\b\b\b\b\b\b\b\b\b\b\b\b\b\b\b\b\b\b\b\b\b\b\b\b\b\b\b\b\b\b\b\b\b\b\b\b\b\b\b\b\b\b\b\b\b\b\b\b\b\b\b\b\b\b\r2000/2000 [==============================] - 59s 29ms/step - loss: 0.0057 - mean_squared_error: 0.0057 - val_loss: 0.0060 - val_mean_squared_error: 0.0060\n",
            "Epoch 8/10\n",
            "1999/2000 [============================>.] - ETA: 0s - loss: 0.0055 - mean_squared_error: 0.0055"
          ]
        },
        {
          "output_type": "stream",
          "name": "stderr",
          "text": [
            "WARNING:tensorflow:Can save best model only with val_accuracy available, skipping.\n"
          ]
        },
        {
          "output_type": "stream",
          "name": "stdout",
          "text": [
            "\b\b\b\b\b\b\b\b\b\b\b\b\b\b\b\b\b\b\b\b\b\b\b\b\b\b\b\b\b\b\b\b\b\b\b\b\b\b\b\b\b\b\b\b\b\b\b\b\b\b\b\b\b\b\b\b\b\b\b\b\b\b\b\b\b\b\b\b\b\b\b\b\b\b\b\b\b\b\b\b\b\b\b\b\b\b\b\b\b\b\b\b\b\b\b\b\r2000/2000 [==============================] - 59s 29ms/step - loss: 0.0055 - mean_squared_error: 0.0055 - val_loss: 0.0059 - val_mean_squared_error: 0.0059\n",
            "Epoch 9/10\n",
            "1999/2000 [============================>.] - ETA: 0s - loss: 0.0053 - mean_squared_error: 0.0053"
          ]
        },
        {
          "output_type": "stream",
          "name": "stderr",
          "text": [
            "WARNING:tensorflow:Can save best model only with val_accuracy available, skipping.\n"
          ]
        },
        {
          "output_type": "stream",
          "name": "stdout",
          "text": [
            "\b\b\b\b\b\b\b\b\b\b\b\b\b\b\b\b\b\b\b\b\b\b\b\b\b\b\b\b\b\b\b\b\b\b\b\b\b\b\b\b\b\b\b\b\b\b\b\b\b\b\b\b\b\b\b\b\b\b\b\b\b\b\b\b\b\b\b\b\b\b\b\b\b\b\b\b\b\b\b\b\b\b\b\b\b\b\b\b\b\b\b\b\b\b\b\b\r2000/2000 [==============================] - 57s 28ms/step - loss: 0.0053 - mean_squared_error: 0.0053 - val_loss: 0.0057 - val_mean_squared_error: 0.0057\n",
            "Epoch 10/10\n",
            "1999/2000 [============================>.] - ETA: 0s - loss: 0.0051 - mean_squared_error: 0.0051"
          ]
        },
        {
          "output_type": "stream",
          "name": "stderr",
          "text": [
            "WARNING:tensorflow:Can save best model only with val_accuracy available, skipping.\n"
          ]
        },
        {
          "output_type": "stream",
          "name": "stdout",
          "text": [
            "\b\b\b\b\b\b\b\b\b\b\b\b\b\b\b\b\b\b\b\b\b\b\b\b\b\b\b\b\b\b\b\b\b\b\b\b\b\b\b\b\b\b\b\b\b\b\b\b\b\b\b\b\b\b\b\b\b\b\b\b\b\b\b\b\b\b\b\b\b\b\b\b\b\b\b\b\b\b\b\b\b\b\b\b\b\b\b\b\b\b\b\b\b\b\b\b\r2000/2000 [==============================] - 57s 28ms/step - loss: 0.0051 - mean_squared_error: 0.0051 - val_loss: 0.0056 - val_mean_squared_error: 0.0056\n"
          ]
        }
      ]
    },
    {
      "cell_type": "code",
      "source": [
        "def plot_history(model_history,keys):\n",
        "    m,val_m = keys\n",
        "    plt.plot(model_history.history[m])\n",
        "    plt.plot(model_history.history[val_m])\n",
        "    plt.ylabel(m)\n",
        "    plt.xlabel('epoch')\n",
        "    plt.legend(['train', 'test'], loc='upper left')\n",
        "    plt.show()\n",
        "\n",
        "plot_history(history5,['loss','val_loss'])"
      ],
      "metadata": {
        "id": "RALD0cCvMU0E",
        "colab": {
          "base_uri": "https://localhost:8080/",
          "height": 449
        },
        "outputId": "3f9a5551-8f64-4322-98d0-c2bf880783eb"
      },
      "execution_count": 55,
      "outputs": [
        {
          "output_type": "display_data",
          "data": {
            "text/plain": [
              "<Figure size 640x480 with 1 Axes>"
            ],
            "image/png": "[encoded data removed]"
          },
          "metadata": {}
        }
      ]
    },
    {
      "cell_type": "markdown",
      "source": [
        "### Evaluation\n",
        "\n",
        "Using Mean Squared Error (mse) to evaluate the error between the deblurred image and the ground truth. Measuring mse on 10000 blurred versions of the validation set. Repeated the previous computation 10 times, and gave a result as mean mse over the ten rounds, along with the standard deviation.\n",
        "\n",
        "The best Model is chosen and visualized."
      ],
      "metadata": {
        "id": "7TbSJVKZEKig"
      }
    },
    {
      "cell_type": "code",
      "source": [
        "mse_scores = []\n",
        "y_pred = mynet5.predict(x_test_b[:])\n",
        "\n",
        "for i in range(10):\n",
        "    # Flatten the image arrays\n",
        "    y_pred_flat = y_pred.reshape(-1)\n",
        "    x_test_flat = x_test_b.reshape(-1)\n",
        "\n",
        "\n",
        "    # Calculate MSE for this round\n",
        "    mse = mean_squared_error(x_test_flat, y_pred_flat)\n",
        "    mse_scores.append(mse)\n",
        "\n",
        "# Calculate mean and standard deviation of MSE scores\n",
        "mean_mse = np.mean(mse_scores)\n",
        "std_mse = np.std(mse_scores)\n",
        "\n",
        "print(f\"Mean MSE over 10 rounds: {mean_mse}\")\n",
        "print(f\"Standard Deviation of MSE: {std_mse}\")"
      ],
      "metadata": {
        "colab": {
          "base_uri": "https://localhost:8080/"
        },
        "id": "kSU5i3xO-EDk",
        "outputId": "b8f39d7f-65f9-439f-9e0b-79fab21990cf"
      },
      "execution_count": 56,
      "outputs": [
        {
          "output_type": "stream",
          "name": "stdout",
          "text": [
            "313/313 [==============================] - 4s 11ms/step\n",
            "Mean MSE over 10 rounds: 0.04827576130628586\n",
            "Standard Deviation of MSE: 3.725290298461914e-09\n"
          ]
        }
      ]
    },
    {
      "cell_type": "code",
      "source": [
        "# Qualitative results\n",
        "y_pred = mynet5.predict(x_test_b[:])\n",
        "show(x_test_o[31, :, :], x_test_b[31, :, :], y_pred[31, :, :, :])\n",
        "show(x_test_o[7, :, :], x_test_b[7, :, :], y_pred[7, :, :, :])\n",
        "show(x_test_o[21, :, :], x_test_b[21, :, :], y_pred[21, :, :, :])\n",
        "show(x_test_o[17, :, :], x_test_b[17, :, :], y_pred[17, :, :, :])"
      ],
      "metadata": {
        "colab": {
          "base_uri": "https://localhost:8080/",
          "height": 1000
        },
        "id": "tnysWRiixxrg",
        "outputId": "0596012d-d75e-46e5-cafc-90beca67df8c"
      },
      "execution_count": 57,
      "outputs": [
        {
          "output_type": "stream",
          "name": "stdout",
          "text": [
            "313/313 [==============================] - 3s 9ms/step\n"
          ]
        },
        {
          "output_type": "display_data",
          "data": {
            "text/plain": [
              "<Figure size 1500x800 with 3 Axes>"
            ],
            "image/png": "[encoded data removed]"
          },
          "metadata": {}
        },
        {
          "output_type": "display_data",
          "data": {
            "text/plain": [
              "<Figure size 1500x800 with 3 Axes>"
            ],
            "image/png": "[encoded data removed]"
          },
          "metadata": {}
        },
        {
          "output_type": "display_data",
          "data": {
            "text/plain": [
              "<Figure size 1500x800 with 3 Axes>"
            ],
            "image/png": "[encoded data removed]"
          },
          "metadata": {}
        },
        {
          "output_type": "display_data",
          "data": {
            "text/plain": [
              "<Figure size 1500x800 with 3 Axes>"
            ],
            "image/png": "[encoded data removed]"
          },
          "metadata": {}
        }
      ]
    },
    {
      "cell_type": "code",
      "source": [],
      "metadata": {
        "id": "3QQ0ykmByMdy"
      },
      "execution_count": null,
      "outputs": []
    }
  ]
}